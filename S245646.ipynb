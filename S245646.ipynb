{
 "cells": [
  {
   "cell_type": "code",
   "execution_count": 1,
   "id": "b7b8da66",
   "metadata": {},
   "outputs": [
    {
     "name": "stdout",
     "output_type": "stream",
     "text": [
      "Requirement already satisfied: torch in c:\\users\\corey\\anaconda3\\lib\\site-packages (2.5.1+cu121)\n",
      "Requirement already satisfied: fsspec in c:\\users\\corey\\anaconda3\\lib\\site-packages (from torch) (2022.7.1)\n",
      "Requirement already satisfied: networkx in c:\\users\\corey\\anaconda3\\lib\\site-packages (from torch) (2.8.4)\n",
      "Requirement already satisfied: typing-extensions>=4.8.0 in c:\\users\\corey\\anaconda3\\lib\\site-packages (from torch) (4.12.2)\n",
      "Requirement already satisfied: sympy==1.13.1 in c:\\users\\corey\\anaconda3\\lib\\site-packages (from torch) (1.13.1)\n",
      "Requirement already satisfied: jinja2 in c:\\users\\corey\\anaconda3\\lib\\site-packages (from torch) (2.11.3)\n",
      "Requirement already satisfied: filelock in c:\\users\\corey\\anaconda3\\lib\\site-packages (from torch) (3.6.0)\n",
      "Requirement already satisfied: mpmath<1.4,>=1.1.0 in c:\\users\\corey\\anaconda3\\lib\\site-packages (from sympy==1.13.1->torch) (1.2.1)\n",
      "Requirement already satisfied: MarkupSafe>=0.23 in c:\\users\\corey\\anaconda3\\lib\\site-packages (from jinja2->torch) (2.0.1)\n"
     ]
    }
   ],
   "source": [
    "!pip install torch"
   ]
  },
  {
   "cell_type": "code",
   "execution_count": 36,
   "id": "6727dd46",
   "metadata": {},
   "outputs": [
    {
     "name": "stdout",
     "output_type": "stream",
     "text": [
      "Looking in indexes: https://download.pytorch.org/whl/cu121\n",
      "Requirement already satisfied: torch in c:\\users\\corey\\anaconda3\\lib\\site-packages (2.5.1+cu121)\n",
      "Requirement already satisfied: torchvision in c:\\users\\corey\\anaconda3\\lib\\site-packages (0.20.1+cu121)\n",
      "Collecting torchaudio\n",
      "  Using cached https://download.pytorch.org/whl/cu121/torchaudio-2.5.1%2Bcu121-cp39-cp39-win_amd64.whl (4.1 MB)\n",
      "Requirement already satisfied: sympy==1.13.1 in c:\\users\\corey\\anaconda3\\lib\\site-packages (from torch) (1.13.1)\n",
      "Requirement already satisfied: filelock in c:\\users\\corey\\anaconda3\\lib\\site-packages (from torch) (3.6.0)\n",
      "Requirement already satisfied: fsspec in c:\\users\\corey\\anaconda3\\lib\\site-packages (from torch) (2022.7.1)\n",
      "Requirement already satisfied: typing-extensions>=4.8.0 in c:\\users\\corey\\anaconda3\\lib\\site-packages (from torch) (4.12.2)\n",
      "Requirement already satisfied: networkx in c:\\users\\corey\\anaconda3\\lib\\site-packages (from torch) (2.8.4)\n",
      "Requirement already satisfied: jinja2 in c:\\users\\corey\\anaconda3\\lib\\site-packages (from torch) (2.11.3)\n",
      "Requirement already satisfied: mpmath<1.4,>=1.1.0 in c:\\users\\corey\\anaconda3\\lib\\site-packages (from sympy==1.13.1->torch) (1.2.1)\n",
      "Requirement already satisfied: numpy in c:\\users\\corey\\anaconda3\\lib\\site-packages (from torchvision) (1.21.5)\n",
      "Requirement already satisfied: pillow!=8.3.*,>=5.3.0 in c:\\users\\corey\\anaconda3\\lib\\site-packages (from torchvision) (9.2.0)\n",
      "Requirement already satisfied: MarkupSafe>=0.23 in c:\\users\\corey\\anaconda3\\lib\\site-packages (from jinja2->torch) (2.0.1)\n",
      "Installing collected packages: torchaudio\n",
      "Successfully installed torchaudio-2.5.1+cu121\n"
     ]
    }
   ],
   "source": [
    "!pip install torch torchvision torchaudio --index-url https://download.pytorch.org/whl/cu121"
   ]
  },
  {
   "cell_type": "code",
   "execution_count": 9,
   "id": "a85bc5a2",
   "metadata": {},
   "outputs": [
    {
     "name": "stdout",
     "output_type": "stream",
     "text": [
      "Requirement already satisfied: matplotlib in c:\\users\\corey\\anaconda3\\lib\\site-packages (3.5.2)\n",
      "Requirement already satisfied: pillow>=6.2.0 in c:\\users\\corey\\anaconda3\\lib\\site-packages (from matplotlib) (9.2.0)\n",
      "Requirement already satisfied: fonttools>=4.22.0 in c:\\users\\corey\\anaconda3\\lib\\site-packages (from matplotlib) (4.25.0)\n",
      "Requirement already satisfied: numpy>=1.17 in c:\\users\\corey\\anaconda3\\lib\\site-packages (from matplotlib) (1.21.5)\n",
      "Requirement already satisfied: kiwisolver>=1.0.1 in c:\\users\\corey\\anaconda3\\lib\\site-packages (from matplotlib) (1.4.2)\n",
      "Requirement already satisfied: pyparsing>=2.2.1 in c:\\users\\corey\\anaconda3\\lib\\site-packages (from matplotlib) (3.0.9)\n",
      "Requirement already satisfied: cycler>=0.10 in c:\\users\\corey\\anaconda3\\lib\\site-packages (from matplotlib) (0.11.0)\n",
      "Requirement already satisfied: python-dateutil>=2.7 in c:\\users\\corey\\anaconda3\\lib\\site-packages (from matplotlib) (2.8.2)\n",
      "Requirement already satisfied: packaging>=20.0 in c:\\users\\corey\\anaconda3\\lib\\site-packages (from matplotlib) (21.3)\n",
      "Requirement already satisfied: six>=1.5 in c:\\users\\corey\\anaconda3\\lib\\site-packages (from python-dateutil>=2.7->matplotlib) (1.16.0)\n"
     ]
    }
   ],
   "source": [
    "!pip install matplotlib"
   ]
  },
  {
   "cell_type": "markdown",
   "id": "8723680a",
   "metadata": {},
   "source": [
    "### Import Necessary Packages."
   ]
  },
  {
   "cell_type": "code",
   "execution_count": 1,
   "id": "4a203f92",
   "metadata": {},
   "outputs": [],
   "source": [
    "\"\"\"\n",
    "All necessary imports needed to run the notebook.\n",
    "\"\"\"\n",
    "import torch\n",
    "import torchvision\n",
    "import torchvision.transforms as transforms\n",
    "from torchvision import datasets\n",
    "from torch.utils.data import DataLoader\n",
    "import torch.nn as nn\n",
    "import torchvision.models as models\n",
    "import torch.optim as optim\n",
    "from sklearn.metrics import precision_score, recall_score, f1_score, classification_report\n",
    "from PIL import Image\n",
    "import torch.nn.functional as F\n",
    "import seaborn as sns\n",
    "from sklearn.metrics import confusion_matrix\n",
    "import numpy as np\n",
    "import matplotlib.pyplot as plt"
   ]
  },
  {
   "cell_type": "markdown",
   "id": "c03df6d7",
   "metadata": {},
   "source": [
    "### Set device to use GPU if avaliable."
   ]
  },
  {
   "cell_type": "code",
   "execution_count": 2,
   "id": "d1c99e01",
   "metadata": {},
   "outputs": [
    {
     "name": "stdout",
     "output_type": "stream",
     "text": [
      "PyTorch Version: 2.5.1+cu121\n",
      "CUDA Available: True\n",
      "CUDA Version: 12.1\n",
      "GPU Count: 1\n",
      "GPU Name: NVIDIA GeForce RTX 3060\n"
     ]
    }
   ],
   "source": [
    "\"\"\"\n",
    "Check pytorch version and device is correct.\n",
    "\"\"\"\n",
    "print(\"PyTorch Version:\", torch.__version__)\n",
    "print(\"CUDA Available:\", torch.cuda.is_available())\n",
    "print(\"CUDA Version:\", torch.version.cuda)\n",
    "print(\"GPU Count:\", torch.cuda.device_count())\n",
    "print(\"GPU Name:\", torch.cuda.get_device_name(0) if torch.cuda.is_available() else \"No GPU found\")"
   ]
  },
  {
   "cell_type": "code",
   "execution_count": 3,
   "id": "8f69053e",
   "metadata": {},
   "outputs": [
    {
     "name": "stdout",
     "output_type": "stream",
     "text": [
      "cuda\n"
     ]
    }
   ],
   "source": [
    "\"\"\"\n",
    "Set device to cuda(GPU) if avaliable.\n",
    "\"\"\"\n",
    "device = torch.device(\"cuda\" if torch.cuda.is_available() else \"cpu\")\n",
    "print(device)"
   ]
  },
  {
   "cell_type": "code",
   "execution_count": 18,
   "id": "2767e980",
   "metadata": {},
   "outputs": [],
   "source": [
    "\"\"\"\n",
    "Transformations the images go through before they are brought into the notebook. (Preprocessing) \n",
    "\"\"\"\n",
    "transform_train = transforms.Compose([\n",
    "    transforms.RandomHorizontalFlip(),\n",
    "    transforms.RandomRotation(20),\n",
    "    transforms.RandomResizedCrop(224, scale=(0.8, 1.0)),  # Adjust the crop size\n",
    "    transforms.ColorJitter(brightness=0.2, contrast=0.2, saturation=0.2, hue=0.2),\n",
    "    transforms.ToTensor(),\n",
    "    transforms.Normalize(mean=[0.485, 0.456, 0.406], std=[0.229, 0.224, 0.225])\n",
    "])\n",
    "\n",
    "transform_val = transforms.Compose([\n",
    "    transforms.ToTensor(),\n",
    "    transforms.Normalize(mean=[0.485, 0.456, 0.406], std=[0.229, 0.224, 0.225])\n",
    "])"
   ]
  },
  {
   "cell_type": "code",
   "execution_count": 19,
   "id": "64d7a115",
   "metadata": {},
   "outputs": [],
   "source": [
    "\"\"\"\n",
    "Load in the training and validation data and apply the transformations.\n",
    "\"\"\"\n",
    "train_dataset = datasets.ImageFolder(root=\"./Dataset/Disasters/train\", transform=transform)\n",
    "val_dataset = datasets.ImageFolder(root=\"./Dataset/Disasters/validation\", transform=transform)\n",
    "\n",
    "train_loader = DataLoader(train_dataset, batch_size=32, shuffle=True)\n",
    "val_loader = DataLoader(val_dataset, batch_size=32, shuffle=False)"
   ]
  },
  {
   "cell_type": "code",
   "execution_count": 21,
   "id": "ebc7ecbd",
   "metadata": {},
   "outputs": [
    {
     "name": "stdout",
     "output_type": "stream",
     "text": [
      "torch.Size([32, 3, 224, 224])\n"
     ]
    }
   ],
   "source": [
    "\"\"\"\n",
    "Define images and their labels and print size.\n",
    "\"\"\"\n",
    "images, labels = next(iter(train_loader))\n",
    "print(images.shape)  # Should be [batch_size, 3, 224, 224]"
   ]
  },
  {
   "cell_type": "code",
   "execution_count": 22,
   "id": "b5ba939d",
   "metadata": {},
   "outputs": [
    {
     "name": "stdout",
     "output_type": "stream",
     "text": [
      "Classes: ['cyclone', 'earthquake', 'flood', 'wildfire']\n"
     ]
    }
   ],
   "source": [
    "\"\"\"\n",
    "Ensure the classes are as expected.\n",
    "\"\"\"\n",
    "print(\"Classes:\", train_dataset.classes)"
   ]
  },
  {
   "cell_type": "code",
   "execution_count": 23,
   "id": "d7af154e",
   "metadata": {},
   "outputs": [
    {
     "name": "stdout",
     "output_type": "stream",
     "text": [
      "ResNet(\n",
      "  (conv1): Conv2d(3, 64, kernel_size=(7, 7), stride=(2, 2), padding=(3, 3), bias=False)\n",
      "  (bn1): BatchNorm2d(64, eps=1e-05, momentum=0.1, affine=True, track_running_stats=True)\n",
      "  (relu): ReLU(inplace=True)\n",
      "  (maxpool): MaxPool2d(kernel_size=3, stride=2, padding=1, dilation=1, ceil_mode=False)\n",
      "  (layer1): Sequential(\n",
      "    (0): BasicBlock(\n",
      "      (conv1): Conv2d(64, 64, kernel_size=(3, 3), stride=(1, 1), padding=(1, 1), bias=False)\n",
      "      (bn1): BatchNorm2d(64, eps=1e-05, momentum=0.1, affine=True, track_running_stats=True)\n",
      "      (relu): ReLU(inplace=True)\n",
      "      (conv2): Conv2d(64, 64, kernel_size=(3, 3), stride=(1, 1), padding=(1, 1), bias=False)\n",
      "      (bn2): BatchNorm2d(64, eps=1e-05, momentum=0.1, affine=True, track_running_stats=True)\n",
      "    )\n",
      "    (1): BasicBlock(\n",
      "      (conv1): Conv2d(64, 64, kernel_size=(3, 3), stride=(1, 1), padding=(1, 1), bias=False)\n",
      "      (bn1): BatchNorm2d(64, eps=1e-05, momentum=0.1, affine=True, track_running_stats=True)\n",
      "      (relu): ReLU(inplace=True)\n",
      "      (conv2): Conv2d(64, 64, kernel_size=(3, 3), stride=(1, 1), padding=(1, 1), bias=False)\n",
      "      (bn2): BatchNorm2d(64, eps=1e-05, momentum=0.1, affine=True, track_running_stats=True)\n",
      "    )\n",
      "  )\n",
      "  (layer2): Sequential(\n",
      "    (0): BasicBlock(\n",
      "      (conv1): Conv2d(64, 128, kernel_size=(3, 3), stride=(2, 2), padding=(1, 1), bias=False)\n",
      "      (bn1): BatchNorm2d(128, eps=1e-05, momentum=0.1, affine=True, track_running_stats=True)\n",
      "      (relu): ReLU(inplace=True)\n",
      "      (conv2): Conv2d(128, 128, kernel_size=(3, 3), stride=(1, 1), padding=(1, 1), bias=False)\n",
      "      (bn2): BatchNorm2d(128, eps=1e-05, momentum=0.1, affine=True, track_running_stats=True)\n",
      "      (downsample): Sequential(\n",
      "        (0): Conv2d(64, 128, kernel_size=(1, 1), stride=(2, 2), bias=False)\n",
      "        (1): BatchNorm2d(128, eps=1e-05, momentum=0.1, affine=True, track_running_stats=True)\n",
      "      )\n",
      "    )\n",
      "    (1): BasicBlock(\n",
      "      (conv1): Conv2d(128, 128, kernel_size=(3, 3), stride=(1, 1), padding=(1, 1), bias=False)\n",
      "      (bn1): BatchNorm2d(128, eps=1e-05, momentum=0.1, affine=True, track_running_stats=True)\n",
      "      (relu): ReLU(inplace=True)\n",
      "      (conv2): Conv2d(128, 128, kernel_size=(3, 3), stride=(1, 1), padding=(1, 1), bias=False)\n",
      "      (bn2): BatchNorm2d(128, eps=1e-05, momentum=0.1, affine=True, track_running_stats=True)\n",
      "    )\n",
      "  )\n",
      "  (layer3): Sequential(\n",
      "    (0): BasicBlock(\n",
      "      (conv1): Conv2d(128, 256, kernel_size=(3, 3), stride=(2, 2), padding=(1, 1), bias=False)\n",
      "      (bn1): BatchNorm2d(256, eps=1e-05, momentum=0.1, affine=True, track_running_stats=True)\n",
      "      (relu): ReLU(inplace=True)\n",
      "      (conv2): Conv2d(256, 256, kernel_size=(3, 3), stride=(1, 1), padding=(1, 1), bias=False)\n",
      "      (bn2): BatchNorm2d(256, eps=1e-05, momentum=0.1, affine=True, track_running_stats=True)\n",
      "      (downsample): Sequential(\n",
      "        (0): Conv2d(128, 256, kernel_size=(1, 1), stride=(2, 2), bias=False)\n",
      "        (1): BatchNorm2d(256, eps=1e-05, momentum=0.1, affine=True, track_running_stats=True)\n",
      "      )\n",
      "    )\n",
      "    (1): BasicBlock(\n",
      "      (conv1): Conv2d(256, 256, kernel_size=(3, 3), stride=(1, 1), padding=(1, 1), bias=False)\n",
      "      (bn1): BatchNorm2d(256, eps=1e-05, momentum=0.1, affine=True, track_running_stats=True)\n",
      "      (relu): ReLU(inplace=True)\n",
      "      (conv2): Conv2d(256, 256, kernel_size=(3, 3), stride=(1, 1), padding=(1, 1), bias=False)\n",
      "      (bn2): BatchNorm2d(256, eps=1e-05, momentum=0.1, affine=True, track_running_stats=True)\n",
      "    )\n",
      "  )\n",
      "  (layer4): Sequential(\n",
      "    (0): BasicBlock(\n",
      "      (conv1): Conv2d(256, 512, kernel_size=(3, 3), stride=(2, 2), padding=(1, 1), bias=False)\n",
      "      (bn1): BatchNorm2d(512, eps=1e-05, momentum=0.1, affine=True, track_running_stats=True)\n",
      "      (relu): ReLU(inplace=True)\n",
      "      (conv2): Conv2d(512, 512, kernel_size=(3, 3), stride=(1, 1), padding=(1, 1), bias=False)\n",
      "      (bn2): BatchNorm2d(512, eps=1e-05, momentum=0.1, affine=True, track_running_stats=True)\n",
      "      (downsample): Sequential(\n",
      "        (0): Conv2d(256, 512, kernel_size=(1, 1), stride=(2, 2), bias=False)\n",
      "        (1): BatchNorm2d(512, eps=1e-05, momentum=0.1, affine=True, track_running_stats=True)\n",
      "      )\n",
      "    )\n",
      "    (1): BasicBlock(\n",
      "      (conv1): Conv2d(512, 512, kernel_size=(3, 3), stride=(1, 1), padding=(1, 1), bias=False)\n",
      "      (bn1): BatchNorm2d(512, eps=1e-05, momentum=0.1, affine=True, track_running_stats=True)\n",
      "      (relu): ReLU(inplace=True)\n",
      "      (conv2): Conv2d(512, 512, kernel_size=(3, 3), stride=(1, 1), padding=(1, 1), bias=False)\n",
      "      (bn2): BatchNorm2d(512, eps=1e-05, momentum=0.1, affine=True, track_running_stats=True)\n",
      "    )\n",
      "  )\n",
      "  (avgpool): AdaptiveAvgPool2d(output_size=(1, 1))\n",
      "  (fc): Linear(in_features=512, out_features=4, bias=True)\n",
      ") cuda\n"
     ]
    },
    {
     "name": "stderr",
     "output_type": "stream",
     "text": [
      "C:\\Users\\corey\\anaconda3\\lib\\site-packages\\torchvision\\models\\_utils.py:208: UserWarning: The parameter 'pretrained' is deprecated since 0.13 and may be removed in the future, please use 'weights' instead.\n",
      "  warnings.warn(\n",
      "C:\\Users\\corey\\anaconda3\\lib\\site-packages\\torchvision\\models\\_utils.py:223: UserWarning: Arguments other than a weight enum or `None` for 'weights' are deprecated since 0.13 and may be removed in the future. The current behavior is equivalent to passing `weights=ResNet18_Weights.IMAGENET1K_V1`. You can also use `weights=ResNet18_Weights.DEFAULT` to get the most up-to-date weights.\n",
      "  warnings.warn(msg)\n"
     ]
    }
   ],
   "source": [
    "\"\"\"\n",
    "Load in the pre trained ResNet-50 and ensure it is running on GPU.\n",
    "\"\"\"\n",
    "model = models.resnet18(pretrained=True)\n",
    "\n",
    "# Modify the final layer to match 4 classes\n",
    "num_ftrs = model.fc.in_features\n",
    "model.fc = nn.Linear(num_ftrs, 4)\n",
    "\n",
    "# Move model to GPU if available\n",
    "device = torch.device(\"cuda\" if torch.cuda.is_available() else \"cpu\")\n",
    "model = model.to(device)\n",
    "\n",
    "print(model, device)  # Check the modified model structure"
   ]
  },
  {
   "cell_type": "code",
   "execution_count": 24,
   "id": "aab99cc3",
   "metadata": {},
   "outputs": [],
   "source": [
    "\"\"\"\n",
    "Set learning rate and use cross entropy loss.\n",
    "\"\"\"\n",
    "criterion = nn.CrossEntropyLoss()\n",
    "optimizer = optim.Adam(model.parameters(), lr=0.001)  # You can also try SGD"
   ]
  },
  {
   "cell_type": "code",
   "execution_count": 25,
   "id": "d8ab1729",
   "metadata": {},
   "outputs": [
    {
     "name": "stdout",
     "output_type": "stream",
     "text": [
      "Epoch [1/10], Loss: 0.4277\n",
      "Epoch [2/10], Loss: 0.2293\n",
      "Epoch [3/10], Loss: 0.1759\n",
      "Epoch [4/10], Loss: 0.1040\n",
      "Epoch [5/10], Loss: 0.1183\n",
      "Epoch [6/10], Loss: 0.1035\n",
      "Epoch [7/10], Loss: 0.0836\n",
      "Epoch [8/10], Loss: 0.0988\n",
      "Epoch [9/10], Loss: 0.1082\n",
      "Epoch [10/10], Loss: 0.0538\n",
      "Training complete!\n"
     ]
    }
   ],
   "source": [
    "\"\"\"\n",
    "Train the model run the epochs and compute loss and accuracy.\n",
    "\"\"\"\n",
    "num_epochs = 10\n",
    "\n",
    "for epoch in range(num_epochs):\n",
    "    model.train()\n",
    "    running_loss = 0.0\n",
    "\n",
    "    for images, labels in train_loader:\n",
    "        images, labels = images.to(device), labels.to(device)\n",
    "\n",
    "        optimizer.zero_grad()  # Reset gradients\n",
    "        outputs = model(images)  # Forward pass\n",
    "        loss = criterion(outputs, labels)  # Compute loss\n",
    "        loss.backward()  # Backpropagation\n",
    "        optimizer.step()  # Update weights\n",
    "\n",
    "        running_loss += loss.item()\n",
    "\n",
    "    print(f\"Epoch [{epoch+1}/{num_epochs}], Loss: {running_loss/len(train_loader):.4f}\")\n",
    "\n",
    "print(\"Training complete!\")"
   ]
  },
  {
   "cell_type": "code",
   "execution_count": 26,
   "id": "278f66f5",
   "metadata": {},
   "outputs": [
    {
     "name": "stdout",
     "output_type": "stream",
     "text": [
      "Validation Accuracy: 94.25%\n",
      "Precision: 0.9482\n",
      "Recall: 0.9425\n",
      "F1 Score: 0.9431\n",
      "\n",
      "Classification Report:\n",
      "               precision    recall  f1-score   support\n",
      "\n",
      "     cyclone       0.96      0.95      0.95       100\n",
      "  earthquake       0.85      1.00      0.92       100\n",
      "       flood       0.98      0.91      0.94       100\n",
      "    wildfire       1.00      0.91      0.95       100\n",
      "\n",
      "    accuracy                           0.94       400\n",
      "   macro avg       0.95      0.94      0.94       400\n",
      "weighted avg       0.95      0.94      0.94       400\n",
      "\n"
     ]
    }
   ],
   "source": [
    "\"\"\"\n",
    "Evaluate the model with the validation data \n",
    "\"\"\"\n",
    "model.eval()\n",
    "all_labels = []\n",
    "all_predictions = []\n",
    "\n",
    "with torch.no_grad():\n",
    "    for images, labels in val_loader:\n",
    "        images, labels = images.to(device), labels.to(device)\n",
    "        outputs = model(images)\n",
    "        _, predicted = torch.max(outputs, 1)\n",
    "\n",
    "        all_labels.extend(labels.cpu().numpy())  # Convert tensors to numpy\n",
    "        all_predictions.extend(predicted.cpu().numpy())\n",
    "\n",
    "# Compute Precision, Recall, and F1-score\n",
    "precision = precision_score(all_labels, all_predictions, average='weighted')  # Change to 'macro' if needed\n",
    "recall = recall_score(all_labels, all_predictions, average='weighted')\n",
    "f1 = f1_score(all_labels, all_predictions, average='weighted')\n",
    "\n",
    "# Print results\n",
    "print(f\"Validation Accuracy: {100 * (sum(1 for x, y in zip(all_labels, all_predictions) if x == y) / len(all_labels)):.2f}%\")\n",
    "print(f\"Precision: {precision:.4f}\")\n",
    "print(f\"Recall: {recall:.4f}\")\n",
    "print(f\"F1 Score: {f1:.4f}\")\n",
    "\n",
    "# Print detailed classification report\n",
    "print(\"\\nClassification Report:\\n\", classification_report(all_labels, all_predictions, target_names=train_dataset.classes))"
   ]
  },
  {
   "cell_type": "code",
   "execution_count": 38,
   "id": "d3ceb44e",
   "metadata": {},
   "outputs": [
    {
     "name": "stdout",
     "output_type": "stream",
     "text": [
      "Predicted Class: earthquake, Confidence: 1.00\n",
      "None 500\n",
      "Predicted Class: earthquake, Confidence: 1.00\n",
      "None 501\n",
      "Predicted Class: earthquake, Confidence: 1.00\n",
      "None 502\n",
      "Predicted Class: earthquake, Confidence: 1.00\n",
      "None 503\n",
      "Predicted Class: earthquake, Confidence: 1.00\n",
      "None 504\n",
      "Predicted Class: earthquake, Confidence: 1.00\n",
      "None 505\n",
      "Predicted Class: earthquake, Confidence: 1.00\n",
      "None 506\n",
      "Predicted Class: earthquake, Confidence: 1.00\n",
      "None 507\n",
      "Predicted Class: earthquake, Confidence: 1.00\n",
      "None 508\n",
      "Predicted Class: earthquake, Confidence: 1.00\n",
      "None 509\n",
      "Predicted Class: earthquake, Confidence: 0.96\n",
      "None 510\n",
      "Predicted Class: earthquake, Confidence: 1.00\n",
      "None 511\n",
      "Predicted Class: earthquake, Confidence: 1.00\n",
      "None 512\n",
      "Predicted Class: earthquake, Confidence: 1.00\n",
      "None 513\n",
      "Predicted Class: earthquake, Confidence: 1.00\n",
      "None 514\n",
      "Predicted Class: earthquake, Confidence: 1.00\n",
      "None 515\n",
      "Predicted Class: earthquake, Confidence: 1.00\n",
      "None 516\n",
      "Predicted Class: earthquake, Confidence: 1.00\n",
      "None 517\n",
      "Predicted Class: earthquake, Confidence: 1.00\n",
      "None 518\n",
      "Predicted Class: earthquake, Confidence: 1.00\n",
      "None 519\n",
      "Predicted Class: earthquake, Confidence: 1.00\n",
      "None 520\n",
      "Predicted Class: earthquake, Confidence: 1.00\n",
      "None 521\n",
      "Predicted Class: earthquake, Confidence: 1.00\n",
      "None 522\n",
      "Predicted Class: earthquake, Confidence: 1.00\n",
      "None 523\n",
      "Predicted Class: earthquake, Confidence: 1.00\n",
      "None 524\n",
      "Predicted Class: earthquake, Confidence: 1.00\n",
      "None 525\n",
      "Predicted Class: earthquake, Confidence: 1.00\n",
      "None 526\n",
      "Predicted Class: earthquake, Confidence: 1.00\n",
      "None 527\n",
      "Predicted Class: earthquake, Confidence: 1.00\n",
      "None 528\n",
      "Predicted Class: earthquake, Confidence: 1.00\n",
      "None 529\n",
      "Predicted Class: earthquake, Confidence: 0.99\n",
      "None 530\n",
      "Predicted Class: earthquake, Confidence: 1.00\n",
      "None 531\n",
      "Predicted Class: earthquake, Confidence: 1.00\n",
      "None 532\n",
      "Predicted Class: earthquake, Confidence: 1.00\n",
      "None 533\n",
      "Predicted Class: earthquake, Confidence: 1.00\n",
      "None 534\n",
      "Predicted Class: earthquake, Confidence: 1.00\n",
      "None 535\n",
      "Predicted Class: earthquake, Confidence: 1.00\n",
      "None 536\n",
      "Predicted Class: earthquake, Confidence: 1.00\n",
      "None 537\n",
      "Predicted Class: earthquake, Confidence: 1.00\n",
      "None 538\n",
      "Predicted Class: earthquake, Confidence: 1.00\n",
      "None 539\n",
      "Predicted Class: earthquake, Confidence: 1.00\n",
      "None 540\n",
      "Predicted Class: earthquake, Confidence: 1.00\n",
      "None 541\n",
      "Predicted Class: earthquake, Confidence: 1.00\n",
      "None 542\n",
      "Predicted Class: earthquake, Confidence: 1.00\n",
      "None 543\n",
      "Predicted Class: earthquake, Confidence: 1.00\n",
      "None 544\n",
      "Predicted Class: earthquake, Confidence: 1.00\n",
      "None 545\n",
      "Predicted Class: earthquake, Confidence: 1.00\n",
      "None 546\n",
      "Predicted Class: earthquake, Confidence: 0.99\n",
      "None 547\n",
      "Predicted Class: earthquake, Confidence: 1.00\n",
      "None 548\n",
      "Predicted Class: earthquake, Confidence: 1.00\n",
      "None 549\n",
      "Predicted Class: earthquake, Confidence: 1.00\n",
      "None 550\n",
      "Predicted Class: earthquake, Confidence: 1.00\n",
      "None 551\n",
      "Predicted Class: earthquake, Confidence: 1.00\n",
      "None 552\n",
      "Predicted Class: earthquake, Confidence: 1.00\n",
      "None 553\n",
      "Predicted Class: earthquake, Confidence: 1.00\n",
      "None 554\n",
      "Predicted Class: earthquake, Confidence: 1.00\n",
      "None 555\n",
      "Predicted Class: earthquake, Confidence: 1.00\n",
      "None 556\n",
      "Predicted Class: earthquake, Confidence: 1.00\n",
      "None 557\n",
      "Predicted Class: earthquake, Confidence: 1.00\n",
      "None 558\n",
      "Predicted Class: earthquake, Confidence: 1.00\n",
      "None 559\n",
      "Predicted Class: earthquake, Confidence: 1.00\n",
      "None 560\n",
      "Predicted Class: earthquake, Confidence: 1.00\n",
      "None 561\n",
      "Predicted Class: earthquake, Confidence: 0.99\n",
      "None 562\n",
      "Predicted Class: earthquake, Confidence: 1.00\n",
      "None 563\n",
      "Predicted Class: earthquake, Confidence: 1.00\n",
      "None 564\n",
      "Predicted Class: earthquake, Confidence: 1.00\n",
      "None 565\n",
      "Predicted Class: earthquake, Confidence: 1.00\n",
      "None 566\n",
      "Predicted Class: earthquake, Confidence: 1.00\n",
      "None 567\n",
      "Predicted Class: earthquake, Confidence: 1.00\n",
      "None 568\n",
      "Predicted Class: earthquake, Confidence: 1.00\n",
      "None 569\n",
      "Predicted Class: earthquake, Confidence: 1.00\n",
      "None 570\n",
      "Predicted Class: earthquake, Confidence: 1.00\n",
      "None 571\n",
      "Predicted Class: earthquake, Confidence: 1.00\n",
      "None 572\n",
      "Predicted Class: earthquake, Confidence: 1.00\n",
      "None 573\n",
      "Predicted Class: earthquake, Confidence: 1.00\n",
      "None 574\n",
      "Predicted Class: earthquake, Confidence: 1.00\n",
      "None 575\n",
      "Predicted Class: earthquake, Confidence: 1.00\n",
      "None 576\n",
      "Predicted Class: earthquake, Confidence: 1.00\n",
      "None 577\n",
      "Predicted Class: earthquake, Confidence: 0.99\n",
      "None 578\n",
      "Predicted Class: earthquake, Confidence: 1.00\n",
      "None 579\n",
      "Predicted Class: earthquake, Confidence: 1.00\n",
      "None 580\n",
      "Predicted Class: earthquake, Confidence: 1.00\n",
      "None 581\n",
      "Predicted Class: earthquake, Confidence: 1.00\n",
      "None 582\n",
      "Predicted Class: wildfire, Confidence: 0.41\n",
      "None 583\n",
      "Predicted Class: earthquake, Confidence: 1.00\n",
      "None 584\n",
      "Predicted Class: earthquake, Confidence: 1.00\n",
      "None 585\n",
      "Predicted Class: earthquake, Confidence: 1.00\n",
      "None 586\n",
      "Predicted Class: earthquake, Confidence: 0.97\n",
      "None 587\n",
      "Predicted Class: earthquake, Confidence: 1.00\n",
      "None 588\n",
      "Predicted Class: earthquake, Confidence: 1.00\n",
      "None 589\n",
      "Predicted Class: earthquake, Confidence: 1.00\n",
      "None 590\n",
      "Predicted Class: earthquake, Confidence: 1.00\n",
      "None 591\n",
      "Predicted Class: earthquake, Confidence: 1.00\n",
      "None 592\n",
      "Predicted Class: earthquake, Confidence: 1.00\n",
      "None 593\n",
      "Predicted Class: earthquake, Confidence: 1.00\n",
      "None 594\n",
      "Predicted Class: earthquake, Confidence: 1.00\n",
      "None 595\n",
      "Predicted Class: earthquake, Confidence: 1.00\n",
      "None 596\n",
      "Predicted Class: earthquake, Confidence: 1.00\n",
      "None 597\n",
      "Predicted Class: earthquake, Confidence: 1.00\n",
      "None 598\n",
      "Predicted Class: earthquake, Confidence: 1.00\n",
      "None 599\n"
     ]
    }
   ],
   "source": [
    "def predict_image(image_path, model, class_names):\n",
    "    \"\"\"\n",
    "    Takes in an image and makes a prediction on the image class.\n",
    "    \"\"\"\n",
    "    model.eval()\n",
    "    image = Image.open(image_path).convert(\"RGB\")\n",
    "    image = transform(image).unsqueeze(0).to(device)  # Preprocess and add batch dimension\n",
    "    \n",
    "    with torch.no_grad():\n",
    "        output = model(image)\n",
    "        probabilities = F.softmax(output, dim=1)\n",
    "        predicted_class = torch.argmax(probabilities, dim=1).item()\n",
    "\n",
    "    print(f\"Predicted Class: {class_names[predicted_class]}, Confidence: {probabilities[0][predicted_class]:.2f}\")\n",
    "\n",
    "\"\"\"\n",
    "Test run of the predictor (function call)\n",
    "\"\"\"\n",
    "for i in range(500, 600):\n",
    "    print(predict_image(f\"./Dataset/Disasters/test/earthquake/{i}.jpg\", model, train_dataset.classes), i)\n"
   ]
  },
  {
   "cell_type": "code",
   "execution_count": 37,
   "id": "6ba0f85d",
   "metadata": {},
   "outputs": [
    {
     "name": "stdout",
     "output_type": "stream",
     "text": [
      "Predicted Class: wildfire, Confidence: 1.00\n",
      "None\n"
     ]
    }
   ],
   "source": [
    "print(predict_image(f\"./Dataset/test_wildfire.jpg\", model, train_dataset.classes))"
   ]
  },
  {
   "cell_type": "code",
   "execution_count": 42,
   "id": "ef6907f1",
   "metadata": {},
   "outputs": [
    {
     "data": {
      "image/png": "[encoded data removed]",
      "text/plain": [
       "<Figure size 800x600 with 2 Axes>"
      ]
     },
     "metadata": {},
     "output_type": "display_data"
    }
   ],
   "source": [
    "\"\"\"\n",
    "Compute confusion matrix to show where mistakes happened during validation.\n",
    "\"\"\"\n",
    "cm = confusion_matrix(all_labels, all_predictions)\n",
    "\n",
    "# Plot confusion matrix\n",
    "plt.figure(figsize=(8, 6))\n",
    "sns.heatmap(cm, annot=True, fmt='d', cmap='Blues', xticklabels=train_dataset.classes, yticklabels=train_dataset.classes)\n",
    "plt.xlabel('Predicted Label')\n",
    "plt.ylabel('True Label')\n",
    "plt.title('Confusion Matrix')\n",
    "plt.show()\n"
   ]
  },
  {
   "cell_type": "code",
   "execution_count": 45,
   "id": "5fbf2998",
   "metadata": {},
   "outputs": [
    {
     "data": {
      "image/png": "[encoded data removed]",
      "text/plain": [
       "<Figure size 1000x500 with 1 Axes>"
      ]
     },
     "metadata": {},
     "output_type": "display_data"
    }
   ],
   "source": [
    "\"\"\"\n",
    "Compute a bar chart to show the evaluation metrics for each class.\n",
    "\"\"\"\n",
    "class_labels = ['Cyclone', 'Earthquake', 'Flood', 'Wildfire']\n",
    "\n",
    "# Precision, Recall, F1 scores (from classification report)\n",
    "precision = [0.96, 0.85, 0.98, 1.00]\n",
    "recall = [0.95, 1.00, 0.91, 0.91]\n",
    "f1_score = [0.95, 0.92, 0.94, 0.95]\n",
    "\n",
    "x = np.arange(len(class_labels))  # Label locations\n",
    "width = 0.2  # Bar width\n",
    "\n",
    "fig, ax = plt.subplots(figsize=(10, 5))\n",
    "\n",
    "# Create bars for precision, recall, and F1-score\n",
    "ax.bar(x - width, precision, width, label='Precision', color='blue')\n",
    "ax.bar(x, recall, width, label='Recall', color='green')\n",
    "ax.bar(x + width, f1_score, width, label='F1 Score', color='orange')\n",
    "\n",
    "# Labels & Title\n",
    "ax.set_xlabel('Classes')\n",
    "ax.set_ylabel('Scores')\n",
    "ax.set_title('Precision, Recall & F1 Score per Class')\n",
    "ax.set_xticks(x)\n",
    "ax.set_xticklabels(class_labels)\n",
    "ax.legend()\n",
    "\n",
    "plt.show()"
   ]
  },
  {
   "cell_type": "code",
   "execution_count": null,
   "id": "c09d6591",
   "metadata": {},
   "outputs": [],
   "source": []
  }
 ],
 "metadata": {
  "kernelspec": {
   "display_name": "Python 3 (ipykernel)",
   "language": "python",
   "name": "python3"
  },
  "language_info": {
   "codemirror_mode": {
    "name": "ipython",
    "version": 3
   },
   "file_extension": ".py",
   "mimetype": "text/x-python",
   "name": "python",
   "nbconvert_exporter": "python",
   "pygments_lexer": "ipython3",
   "version": "3.9.13"
  }
 },
 "nbformat": 4,
 "nbformat_minor": 5
}
